{
 "cells": [
  {
   "cell_type": "code",
   "execution_count": 3,
   "id": "a38aaa73-f82c-41d8-9f06-8d102649864a",
   "metadata": {},
   "outputs": [],
   "source": [
    "import influxdb_client, os, time\n",
    "from influxdb_client import InfluxDBClient, Point, WritePrecision\n",
    "from influxdb_client.client.write_api import SYNCHRONOUS\n",
    "\n",
    "# token = os.environ.get(\"INFLUXDB_TOKEN\")\n",
    "token = \"uh0PBnHMtrECKmP7HjxYzQL5YM_yRZfqHaIYXafT0a4w2on70Tc6ezCt0Q0hevlY_k2mHdldLDfnqMiB_a4s9A==\"\n",
    "org = \"netem\"\n",
    "url = \"http://192.168.1.176:8086\"\n",
    "\n",
    "client = influxdb_client.InfluxDBClient(url=url, token=token, org=org)"
   ]
  },
  {
   "cell_type": "markdown",
   "id": "63191a77-cc65-495f-89ba-644bf2bec19e",
   "metadata": {},
   "source": [
    "# Stuff"
   ]
  },
  {
   "cell_type": "code",
   "execution_count": 8,
   "id": "d4f6c8f3-832a-44f6-9a4f-83a8262e6b44",
   "metadata": {},
   "outputs": [],
   "source": [
    "bucket=\"netem\"\n",
    "\n",
    "write_api = client.write_api(write_options=SYNCHRONOUS)\n",
    "   \n",
    "for value in range(5):\n",
    "  point = (\n",
    "    Point(\"measurement1\")\n",
    "    .tag(\"tagname1\", \"tagvalue1\")\n",
    "    .field(\"field1\", value)\n",
    "  )\n",
    "  write_api.write(bucket=bucket, org=\"netem\", record=point)\n",
    "  time.sleep(1) # separate points by 1 second"
   ]
  },
  {
   "cell_type": "code",
   "execution_count": 17,
   "id": "bedeaf93-1019-4ee6-876b-b796337be6c0",
   "metadata": {},
   "outputs": [],
   "source": [
    "query_api = client.query_api()\n",
    "\n",
    "query = \"\"\"from(bucket: \"netem\")\n",
    " |> range(start: -10m)\n",
    " |> filter(fn: (r) => r._measurement == \"measurement1\")\"\"\"\n",
    "tables = query_api.query(query, org=\"netem\")\n",
    "\n",
    "for table in tables:\n",
    "  for record in table.records:\n",
    "    print(record)"
   ]
  },
  {
   "cell_type": "code",
   "execution_count": 18,
   "id": "b0dc0cc0-d79e-452c-a026-8889599cdbaf",
   "metadata": {},
   "outputs": [
    {
     "name": "stdout",
     "output_type": "stream",
     "text": [
      "FluxRecord() table: 0, {'result': '_result', 'table': 0, '_start': datetime.datetime(2024, 1, 18, 15, 18, 16, 745884, tzinfo=tzutc()), '_stop': datetime.datetime(2024, 1, 18, 15, 28, 16, 745884, tzinfo=tzutc()), '_value': 2.0, '_field': 'field1', '_measurement': 'measurement1', 'tagname1': 'tagvalue1'}\n"
     ]
    }
   ],
   "source": [
    "query_api = client.query_api()\n",
    "\n",
    "query = \"\"\"from(bucket: \"netem\")\n",
    "  |> range(start: -10m)\n",
    "  |> filter(fn: (r) => r._measurement == \"measurement1\")\n",
    "  |> mean()\"\"\"\n",
    "tables = query_api.query(query, org=\"netem\")\n",
    "\n",
    "for table in tables:\n",
    "    for record in table.records:\n",
    "        print(record)"
   ]
  },
  {
   "cell_type": "code",
   "execution_count": 33,
   "id": "b6c42829-9ba9-43b5-a966-03ea48ec949f",
   "metadata": {},
   "outputs": [],
   "source": [
    "dictionary = {\n",
    "    \"measurement\": \"h2o_feet\",\n",
    "    \"tags\": {\"location\": \"us-west\"},\n",
    "    \"fields\": {\"level\": 127, \"rotation\": 17},\n",
    "}\n",
    "write_api.write(\"netem\", \"netem\", dictionary)\n"
   ]
  },
  {
   "cell_type": "code",
   "execution_count": 34,
   "id": "8519081a-686d-4fe5-9f52-9481985bf1f6",
   "metadata": {},
   "outputs": [
    {
     "name": "stdout",
     "output_type": "stream",
     "text": [
      "FluxRecord() table: 0, {'result': '_result', 'table': 0, '_start': datetime.datetime(2024, 1, 19, 11, 6, 50, 758184, tzinfo=tzutc()), '_stop': datetime.datetime(2024, 1, 19, 11, 16, 50, 758184, tzinfo=tzutc()), '_time': datetime.datetime(2024, 1, 19, 11, 16, 17, 14694, tzinfo=tzutc()), '_value': 127, '_field': 'level', '_measurement': 'h2o_feet', 'location': 'us-west'}\n",
      "FluxRecord() table: 0, {'result': '_result', 'table': 0, '_start': datetime.datetime(2024, 1, 19, 11, 6, 50, 758184, tzinfo=tzutc()), '_stop': datetime.datetime(2024, 1, 19, 11, 16, 50, 758184, tzinfo=tzutc()), '_time': datetime.datetime(2024, 1, 19, 11, 16, 48, 555382, tzinfo=tzutc()), '_value': 127, '_field': 'level', '_measurement': 'h2o_feet', 'location': 'us-west'}\n",
      "FluxRecord() table: 1, {'result': '_result', 'table': 1, '_start': datetime.datetime(2024, 1, 19, 11, 6, 50, 758184, tzinfo=tzutc()), '_stop': datetime.datetime(2024, 1, 19, 11, 16, 50, 758184, tzinfo=tzutc()), '_time': datetime.datetime(2024, 1, 19, 11, 16, 17, 14694, tzinfo=tzutc()), '_value': 17, '_field': 'rotation', '_measurement': 'h2o_feet', 'location': 'us-west'}\n",
      "FluxRecord() table: 1, {'result': '_result', 'table': 1, '_start': datetime.datetime(2024, 1, 19, 11, 6, 50, 758184, tzinfo=tzutc()), '_stop': datetime.datetime(2024, 1, 19, 11, 16, 50, 758184, tzinfo=tzutc()), '_time': datetime.datetime(2024, 1, 19, 11, 16, 48, 555382, tzinfo=tzutc()), '_value': 17, '_field': 'rotation', '_measurement': 'h2o_feet', 'location': 'us-west'}\n",
      "\n",
      "====\n",
      "\n",
      "[[datetime.datetime(2024, 1, 19, 11, 16, 17, 14694, tzinfo=tzutc()), 127], [datetime.datetime(2024, 1, 19, 11, 16, 48, 555382, tzinfo=tzutc()), 127], [datetime.datetime(2024, 1, 19, 11, 16, 17, 14694, tzinfo=tzutc()), 17], [datetime.datetime(2024, 1, 19, 11, 16, 48, 555382, tzinfo=tzutc()), 17]]\n",
      "----\n",
      "127\n",
      "\n",
      "====\n",
      "\n",
      "[\n",
      "     {\n",
      "          \"result\": \"_result\",\n",
      "          \"table\": 0,\n",
      "          \"_start\": \"2024-01-19T11:06:50.758184+00:00\",\n",
      "          \"_stop\": \"2024-01-19T11:16:50.758184+00:00\",\n",
      "          \"_time\": \"2024-01-19T11:16:17.014694+00:00\",\n",
      "          \"_value\": 127,\n",
      "          \"_field\": \"level\",\n",
      "          \"_measurement\": \"h2o_feet\",\n",
      "          \"location\": \"us-west\"\n",
      "     },\n",
      "     {\n",
      "          \"result\": \"_result\",\n",
      "          \"table\": 0,\n",
      "          \"_start\": \"2024-01-19T11:06:50.758184+00:00\",\n",
      "          \"_stop\": \"2024-01-19T11:16:50.758184+00:00\",\n",
      "          \"_time\": \"2024-01-19T11:16:48.555382+00:00\",\n",
      "          \"_value\": 127,\n",
      "          \"_field\": \"level\",\n",
      "          \"_measurement\": \"h2o_feet\",\n",
      "          \"location\": \"us-west\"\n",
      "     },\n",
      "     {\n",
      "          \"result\": \"_result\",\n",
      "          \"table\": 1,\n",
      "          \"_start\": \"2024-01-19T11:06:50.758184+00:00\",\n",
      "          \"_stop\": \"2024-01-19T11:16:50.758184+00:00\",\n",
      "          \"_time\": \"2024-01-19T11:16:17.014694+00:00\",\n",
      "          \"_value\": 17,\n",
      "          \"_field\": \"rotation\",\n",
      "          \"_measurement\": \"h2o_feet\",\n",
      "          \"location\": \"us-west\"\n",
      "     },\n",
      "     {\n",
      "          \"result\": \"_result\",\n",
      "          \"table\": 1,\n",
      "          \"_start\": \"2024-01-19T11:06:50.758184+00:00\",\n",
      "          \"_stop\": \"2024-01-19T11:16:50.758184+00:00\",\n",
      "          \"_time\": \"2024-01-19T11:16:48.555382+00:00\",\n",
      "          \"_value\": 17,\n",
      "          \"_field\": \"rotation\",\n",
      "          \"_measurement\": \"h2o_feet\",\n",
      "          \"location\": \"us-west\"\n",
      "     }\n",
      "]\n"
     ]
    }
   ],
   "source": [
    "query_api = client.query_api()\n",
    "\n",
    "query = \"\"\"from(bucket: \"netem\")\n",
    " |> range(start: -10m)\n",
    " |> filter(fn: (r) => r._measurement == \"h2o_feet\")\"\"\"\n",
    "tables = query_api.query(query, org=\"netem\")\n",
    "\n",
    "for table in tables:\n",
    "  for record in table.records:\n",
    "    print(record)\n",
    "\n",
    "print(\"\\n====\\n\")\n",
    "\n",
    "tmp = tables.to_values(columns=[\"_time\", \"_value\"])\n",
    "print(tmp)\n",
    "print(\"----\")\n",
    "print(tmp[0][1])\n",
    "\n",
    "print(\"\\n====\\n\")\n",
    "\n",
    "print(tables.to_json(indent=5))"
   ]
  },
  {
   "cell_type": "markdown",
   "id": "d57f8f38-413e-40e4-8657-64d96791668e",
   "metadata": {},
   "source": [
    "# Stuff2"
   ]
  },
  {
   "cell_type": "code",
   "execution_count": 49,
   "id": "238e0a89-ada5-4c89-b9d2-6c9f728716a1",
   "metadata": {},
   "outputs": [
    {
     "name": "stdout",
     "output_type": "stream",
     "text": [
      "None\n"
     ]
    }
   ],
   "source": [
    "dictionary = {'measurement': 'latency',\n",
    "              'tags': {'src': 'node_a', 'dst': '10.44.3.2'},\n",
    "              'fields': {'value': 2513.0, 'units': \"ms\"}\n",
    "             }\n",
    "ret = write_api.write(\"netem\", \"netem\", dictionary)\n",
    "print(ret)"
   ]
  },
  {
   "cell_type": "code",
   "execution_count": 56,
   "id": "2bbc8205-4448-40bc-9c03-4992ea133cf0",
   "metadata": {},
   "outputs": [
    {
     "name": "stdout",
     "output_type": "stream",
     "text": [
      "4\n",
      "FluxRecord() table: 0, {'result': '_result', 'table': 0, '_start': datetime.datetime(2024, 1, 19, 11, 16, 39, 874675, tzinfo=tzutc()), '_stop': datetime.datetime(2024, 1, 19, 11, 26, 39, 874675, tzinfo=tzutc()), '_time': datetime.datetime(2024, 1, 19, 11, 18, 29, 318556, tzinfo=tzutc()), '_value': 'ms', '_field': 'units', '_measurement': 'latency', 'dst': '10.44.3.2', 'src': 'node_a'}\n",
      "FluxRecord() table: 0, {'result': '_result', 'table': 0, '_start': datetime.datetime(2024, 1, 19, 11, 16, 39, 874675, tzinfo=tzutc()), '_stop': datetime.datetime(2024, 1, 19, 11, 26, 39, 874675, tzinfo=tzutc()), '_time': datetime.datetime(2024, 1, 19, 11, 19, 18, 931897, tzinfo=tzutc()), '_value': 'ms', '_field': 'units', '_measurement': 'latency', 'dst': '10.44.3.2', 'src': 'node_a'}\n",
      "FluxRecord() table: 0, {'result': '_result', 'table': 0, '_start': datetime.datetime(2024, 1, 19, 11, 16, 39, 874675, tzinfo=tzutc()), '_stop': datetime.datetime(2024, 1, 19, 11, 26, 39, 874675, tzinfo=tzutc()), '_time': datetime.datetime(2024, 1, 19, 11, 19, 22, 88436, tzinfo=tzutc()), '_value': 'ms', '_field': 'units', '_measurement': 'latency', 'dst': '10.44.3.2', 'src': 'node_a'}\n",
      "FluxRecord() table: 0, {'result': '_result', 'table': 0, '_start': datetime.datetime(2024, 1, 19, 11, 16, 39, 874675, tzinfo=tzutc()), '_stop': datetime.datetime(2024, 1, 19, 11, 26, 39, 874675, tzinfo=tzutc()), '_time': datetime.datetime(2024, 1, 19, 11, 23, 12, 677079, tzinfo=tzutc()), '_value': 'ms', '_field': 'units', '_measurement': 'latency', 'dst': '10.44.3.2', 'src': 'node_a'}\n",
      "4\n",
      "FluxRecord() table: 1, {'result': '_result', 'table': 1, '_start': datetime.datetime(2024, 1, 19, 11, 16, 39, 874675, tzinfo=tzutc()), '_stop': datetime.datetime(2024, 1, 19, 11, 26, 39, 874675, tzinfo=tzutc()), '_time': datetime.datetime(2024, 1, 19, 11, 18, 29, 318556, tzinfo=tzutc()), '_value': 2513.0, '_field': 'value', '_measurement': 'latency', 'dst': '10.44.3.2', 'src': 'node_a'}\n",
      "FluxRecord() table: 1, {'result': '_result', 'table': 1, '_start': datetime.datetime(2024, 1, 19, 11, 16, 39, 874675, tzinfo=tzutc()), '_stop': datetime.datetime(2024, 1, 19, 11, 26, 39, 874675, tzinfo=tzutc()), '_time': datetime.datetime(2024, 1, 19, 11, 19, 18, 931897, tzinfo=tzutc()), '_value': 2513.0, '_field': 'value', '_measurement': 'latency', 'dst': '10.44.3.2', 'src': 'node_a'}\n",
      "FluxRecord() table: 1, {'result': '_result', 'table': 1, '_start': datetime.datetime(2024, 1, 19, 11, 16, 39, 874675, tzinfo=tzutc()), '_stop': datetime.datetime(2024, 1, 19, 11, 26, 39, 874675, tzinfo=tzutc()), '_time': datetime.datetime(2024, 1, 19, 11, 19, 22, 88436, tzinfo=tzutc()), '_value': 2513.0, '_field': 'value', '_measurement': 'latency', 'dst': '10.44.3.2', 'src': 'node_a'}\n",
      "FluxRecord() table: 1, {'result': '_result', 'table': 1, '_start': datetime.datetime(2024, 1, 19, 11, 16, 39, 874675, tzinfo=tzutc()), '_stop': datetime.datetime(2024, 1, 19, 11, 26, 39, 874675, tzinfo=tzutc()), '_time': datetime.datetime(2024, 1, 19, 11, 23, 12, 677079, tzinfo=tzutc()), '_value': 2513.0, '_field': 'value', '_measurement': 'latency', 'dst': '10.44.3.2', 'src': 'node_a'}\n"
     ]
    }
   ],
   "source": [
    "query_api = client.query_api()\n",
    "\n",
    "query = \"\"\"from(bucket: \"netem\")\n",
    " |> range(start: -10m)\n",
    " |> filter(fn: (r) => r._measurement == \"latency\")\"\"\"\n",
    "tables = query_api.query(query, org=\"netem\")\n",
    "\n",
    "for table in tables:\n",
    "  print(len(table.records))\n",
    "  for record in table.records:\n",
    "    print(record)"
   ]
  },
  {
   "cell_type": "code",
   "execution_count": 44,
   "id": "0589e40d-19ea-4639-b46c-62fed53ee716",
   "metadata": {},
   "outputs": [
    {
     "name": "stdout",
     "output_type": "stream",
     "text": [
      "write_api is: <influxdb_client.client.write_api.WriteApi object at 0x7fa455421720>\n",
      "Logging to influxdb: {'measurement': 'latency', 'tags': {'src': 'the_source', 'dst': 'the_dest'}, 'fields': {'value': 42, 'units': 'ms'}}\n",
      "Result of influxdb write: None\n"
     ]
    }
   ],
   "source": [
    "token = \"uh0PBnHMtrECKmP7HjxYzQL5YM_yRZfqHaIYXafT0a4w2on70Tc6ezCt0Q0hevlY_k2mHdldLDfnqMiB_a4s9A==\"\n",
    "org = \"netem\"\n",
    "# url = \"http://influxdb2:8086\"\n",
    "url = \"http://localhost:8086\"\n",
    "\n",
    "client = influxdb_client.InfluxDBClient(url=url, token=token, org=org)\n",
    "\n",
    "write_api = client.write_api(write_options=SYNCHRONOUS)\n",
    "print(f\"write_api is: {write_api}\")\n",
    "\n",
    "\n",
    "def write_value(src, dst, val, units):\n",
    "    dictionary = {\n",
    "        \"measurement\": \"latency\",\n",
    "        \"tags\": {\"src\": src, \"dst\": dst},\n",
    "        \"fields\": {\"value\": val, \"units\": units},\n",
    "    }\n",
    "    print(f\"Logging to influxdb: {dictionary}\")\n",
    "    ret = write_api.write(bucket=\"netem\", org=\"netem\", dict=dictionary)\n",
    "    print(f\"Result of influxdb write: {ret}\")\n",
    "\n",
    "write_value(\"the_source\", \"the_dest\", 42, \"ms\")"
   ]
  },
  {
   "cell_type": "code",
   "execution_count": null,
   "id": "2ebf41d7-3e80-42f2-ad6b-043a57696442",
   "metadata": {},
   "outputs": [],
   "source": []
  }
 ],
 "metadata": {
  "kernelspec": {
   "display_name": "Python 3 (ipykernel)",
   "language": "python",
   "name": "python3"
  },
  "language_info": {
   "codemirror_mode": {
    "name": "ipython",
    "version": 3
   },
   "file_extension": ".py",
   "mimetype": "text/x-python",
   "name": "python",
   "nbconvert_exporter": "python",
   "pygments_lexer": "ipython3",
   "version": "3.10.12"
  }
 },
 "nbformat": 4,
 "nbformat_minor": 5
}
